{
 "cells": [
  {
   "cell_type": "code",
   "execution_count": 1,
   "id": "34ceb677-8326-4884-ac56-9dcb1f6964c2",
   "metadata": {},
   "outputs": [],
   "source": [
    "import numpy as np\n",
    "import pandas as pd\n",
    "import seaborn as sb\n",
    "import matplotlib.pyplot as plt\n",
    "import warnings\n",
    "warnings.filterwarnings('ignore')"
   ]
  },
  {
   "cell_type": "code",
   "execution_count": 2,
   "id": "a206a59f-8282-429b-8b03-b49474495307",
   "metadata": {},
   "outputs": [],
   "source": [
    "#load the Dataset   \n",
    "df=pd.read_csv(\"Student Depression Dataset.csv\")"
   ]
  },
  {
   "cell_type": "code",
   "execution_count": 3,
   "id": "a012716c-c1f4-4885-96fe-ee4fa424847d",
   "metadata": {},
   "outputs": [
    {
     "data": {
      "text/html": [
       "<div>\n",
       "<style scoped>\n",
       "    .dataframe tbody tr th:only-of-type {\n",
       "        vertical-align: middle;\n",
       "    }\n",
       "\n",
       "    .dataframe tbody tr th {\n",
       "        vertical-align: top;\n",
       "    }\n",
       "\n",
       "    .dataframe thead th {\n",
       "        text-align: right;\n",
       "    }\n",
       "</style>\n",
       "<table border=\"1\" class=\"dataframe\">\n",
       "  <thead>\n",
       "    <tr style=\"text-align: right;\">\n",
       "      <th></th>\n",
       "      <th>id</th>\n",
       "      <th>Gender</th>\n",
       "      <th>Age</th>\n",
       "      <th>City</th>\n",
       "      <th>Profession</th>\n",
       "      <th>Academic Pressure</th>\n",
       "      <th>Work Pressure</th>\n",
       "      <th>CGPA</th>\n",
       "      <th>Study Satisfaction</th>\n",
       "      <th>Job Satisfaction</th>\n",
       "      <th>Sleep Duration</th>\n",
       "      <th>Dietary Habits</th>\n",
       "      <th>Degree</th>\n",
       "      <th>Have you ever had suicidal thoughts ?</th>\n",
       "      <th>Work/Study Hours</th>\n",
       "      <th>Financial Stress</th>\n",
       "      <th>Family History of Mental Illness</th>\n",
       "      <th>Depression</th>\n",
       "    </tr>\n",
       "  </thead>\n",
       "  <tbody>\n",
       "    <tr>\n",
       "      <th>0</th>\n",
       "      <td>2</td>\n",
       "      <td>Male</td>\n",
       "      <td>33.0</td>\n",
       "      <td>Visakhapatnam</td>\n",
       "      <td>Student</td>\n",
       "      <td>5.0</td>\n",
       "      <td>0.0</td>\n",
       "      <td>8.97</td>\n",
       "      <td>2.0</td>\n",
       "      <td>0.0</td>\n",
       "      <td>5-6 hours</td>\n",
       "      <td>Healthy</td>\n",
       "      <td>B.Pharm</td>\n",
       "      <td>Yes</td>\n",
       "      <td>3.0</td>\n",
       "      <td>1.0</td>\n",
       "      <td>No</td>\n",
       "      <td>1</td>\n",
       "    </tr>\n",
       "    <tr>\n",
       "      <th>1</th>\n",
       "      <td>8</td>\n",
       "      <td>Female</td>\n",
       "      <td>24.0</td>\n",
       "      <td>Bangalore</td>\n",
       "      <td>Student</td>\n",
       "      <td>2.0</td>\n",
       "      <td>0.0</td>\n",
       "      <td>5.90</td>\n",
       "      <td>5.0</td>\n",
       "      <td>0.0</td>\n",
       "      <td>5-6 hours</td>\n",
       "      <td>Moderate</td>\n",
       "      <td>BSc</td>\n",
       "      <td>No</td>\n",
       "      <td>3.0</td>\n",
       "      <td>2.0</td>\n",
       "      <td>Yes</td>\n",
       "      <td>0</td>\n",
       "    </tr>\n",
       "    <tr>\n",
       "      <th>2</th>\n",
       "      <td>26</td>\n",
       "      <td>Male</td>\n",
       "      <td>31.0</td>\n",
       "      <td>Srinagar</td>\n",
       "      <td>Student</td>\n",
       "      <td>3.0</td>\n",
       "      <td>0.0</td>\n",
       "      <td>7.03</td>\n",
       "      <td>5.0</td>\n",
       "      <td>0.0</td>\n",
       "      <td>Less than 5 hours</td>\n",
       "      <td>Healthy</td>\n",
       "      <td>BA</td>\n",
       "      <td>No</td>\n",
       "      <td>9.0</td>\n",
       "      <td>1.0</td>\n",
       "      <td>Yes</td>\n",
       "      <td>0</td>\n",
       "    </tr>\n",
       "    <tr>\n",
       "      <th>3</th>\n",
       "      <td>30</td>\n",
       "      <td>Female</td>\n",
       "      <td>28.0</td>\n",
       "      <td>Varanasi</td>\n",
       "      <td>Student</td>\n",
       "      <td>3.0</td>\n",
       "      <td>0.0</td>\n",
       "      <td>5.59</td>\n",
       "      <td>2.0</td>\n",
       "      <td>0.0</td>\n",
       "      <td>7-8 hours</td>\n",
       "      <td>Moderate</td>\n",
       "      <td>BCA</td>\n",
       "      <td>Yes</td>\n",
       "      <td>4.0</td>\n",
       "      <td>5.0</td>\n",
       "      <td>Yes</td>\n",
       "      <td>1</td>\n",
       "    </tr>\n",
       "    <tr>\n",
       "      <th>4</th>\n",
       "      <td>32</td>\n",
       "      <td>Female</td>\n",
       "      <td>25.0</td>\n",
       "      <td>Jaipur</td>\n",
       "      <td>Student</td>\n",
       "      <td>4.0</td>\n",
       "      <td>0.0</td>\n",
       "      <td>8.13</td>\n",
       "      <td>3.0</td>\n",
       "      <td>0.0</td>\n",
       "      <td>5-6 hours</td>\n",
       "      <td>Moderate</td>\n",
       "      <td>M.Tech</td>\n",
       "      <td>Yes</td>\n",
       "      <td>1.0</td>\n",
       "      <td>1.0</td>\n",
       "      <td>No</td>\n",
       "      <td>0</td>\n",
       "    </tr>\n",
       "  </tbody>\n",
       "</table>\n",
       "</div>"
      ],
      "text/plain": [
       "   id  Gender   Age           City Profession  Academic Pressure  \\\n",
       "0   2    Male  33.0  Visakhapatnam    Student                5.0   \n",
       "1   8  Female  24.0      Bangalore    Student                2.0   \n",
       "2  26    Male  31.0       Srinagar    Student                3.0   \n",
       "3  30  Female  28.0       Varanasi    Student                3.0   \n",
       "4  32  Female  25.0         Jaipur    Student                4.0   \n",
       "\n",
       "   Work Pressure  CGPA  Study Satisfaction  Job Satisfaction  \\\n",
       "0            0.0  8.97                 2.0               0.0   \n",
       "1            0.0  5.90                 5.0               0.0   \n",
       "2            0.0  7.03                 5.0               0.0   \n",
       "3            0.0  5.59                 2.0               0.0   \n",
       "4            0.0  8.13                 3.0               0.0   \n",
       "\n",
       "      Sleep Duration Dietary Habits   Degree  \\\n",
       "0          5-6 hours        Healthy  B.Pharm   \n",
       "1          5-6 hours       Moderate      BSc   \n",
       "2  Less than 5 hours        Healthy       BA   \n",
       "3          7-8 hours       Moderate      BCA   \n",
       "4          5-6 hours       Moderate   M.Tech   \n",
       "\n",
       "  Have you ever had suicidal thoughts ?  Work/Study Hours  Financial Stress  \\\n",
       "0                                   Yes               3.0               1.0   \n",
       "1                                    No               3.0               2.0   \n",
       "2                                    No               9.0               1.0   \n",
       "3                                   Yes               4.0               5.0   \n",
       "4                                   Yes               1.0               1.0   \n",
       "\n",
       "  Family History of Mental Illness  Depression  \n",
       "0                               No           1  \n",
       "1                              Yes           0  \n",
       "2                              Yes           0  \n",
       "3                              Yes           1  \n",
       "4                               No           0  "
      ]
     },
     "execution_count": 3,
     "metadata": {},
     "output_type": "execute_result"
    }
   ],
   "source": [
    "#To check the First Five Records\n",
    "df.head()"
   ]
  },
  {
   "cell_type": "code",
   "execution_count": 4,
   "id": "cd5ae4f0-a515-48bd-becf-860e8753bd85",
   "metadata": {},
   "outputs": [
    {
     "data": {
      "text/plain": [
       "(27901, 18)"
      ]
     },
     "execution_count": 4,
     "metadata": {},
     "output_type": "execute_result"
    }
   ],
   "source": [
    "#To check the Total Records\n",
    "df.shape"
   ]
  },
  {
   "cell_type": "code",
   "execution_count": 5,
   "id": "ea06be71-05f6-4330-a587-95afbb4c3067",
   "metadata": {},
   "outputs": [
    {
     "data": {
      "text/plain": [
       "id                                       0\n",
       "Gender                                   0\n",
       "Age                                      0\n",
       "City                                     0\n",
       "Profession                               0\n",
       "Academic Pressure                        0\n",
       "Work Pressure                            0\n",
       "CGPA                                     0\n",
       "Study Satisfaction                       0\n",
       "Job Satisfaction                         0\n",
       "Sleep Duration                           0\n",
       "Dietary Habits                           0\n",
       "Degree                                   0\n",
       "Have you ever had suicidal thoughts ?    0\n",
       "Work/Study Hours                         0\n",
       "Financial Stress                         3\n",
       "Family History of Mental Illness         0\n",
       "Depression                               0\n",
       "dtype: int64"
      ]
     },
     "execution_count": 5,
     "metadata": {},
     "output_type": "execute_result"
    }
   ],
   "source": [
    "#To check Duplicate \n",
    "df.isnull().sum()"
   ]
  },
  {
   "cell_type": "code",
   "execution_count": 6,
   "id": "5c1fe665-5229-427b-8990-0f3d813450b0",
   "metadata": {},
   "outputs": [],
   "source": [
    "#Fill the null value \n",
    "df['Financial Stress'].fillna(df['Financial Stress'].mean(), inplace=True)"
   ]
  },
  {
   "cell_type": "code",
   "execution_count": 7,
   "id": "f0fa3808-a809-4e68-a9b1-8c582939959f",
   "metadata": {},
   "outputs": [
    {
     "data": {
      "text/plain": [
       "id                                       0\n",
       "Gender                                   0\n",
       "Age                                      0\n",
       "City                                     0\n",
       "Profession                               0\n",
       "Academic Pressure                        0\n",
       "Work Pressure                            0\n",
       "CGPA                                     0\n",
       "Study Satisfaction                       0\n",
       "Job Satisfaction                         0\n",
       "Sleep Duration                           0\n",
       "Dietary Habits                           0\n",
       "Degree                                   0\n",
       "Have you ever had suicidal thoughts ?    0\n",
       "Work/Study Hours                         0\n",
       "Financial Stress                         0\n",
       "Family History of Mental Illness         0\n",
       "Depression                               0\n",
       "dtype: int64"
      ]
     },
     "execution_count": 7,
     "metadata": {},
     "output_type": "execute_result"
    }
   ],
   "source": [
    "#Checking the null values \n",
    "df.isnull().sum()"
   ]
  },
  {
   "cell_type": "code",
   "execution_count": 8,
   "id": "91a647a8-107c-48c8-908f-2c81e5c02c6d",
   "metadata": {},
   "outputs": [
    {
     "data": {
      "text/plain": [
       "id                                         int64\n",
       "Gender                                    object\n",
       "Age                                      float64\n",
       "City                                      object\n",
       "Profession                                object\n",
       "Academic Pressure                        float64\n",
       "Work Pressure                            float64\n",
       "CGPA                                     float64\n",
       "Study Satisfaction                       float64\n",
       "Job Satisfaction                         float64\n",
       "Sleep Duration                            object\n",
       "Dietary Habits                            object\n",
       "Degree                                    object\n",
       "Have you ever had suicidal thoughts ?     object\n",
       "Work/Study Hours                         float64\n",
       "Financial Stress                         float64\n",
       "Family History of Mental Illness          object\n",
       "Depression                                 int64\n",
       "dtype: object"
      ]
     },
     "execution_count": 8,
     "metadata": {},
     "output_type": "execute_result"
    }
   ],
   "source": [
    "#Checking Dtypes \n",
    "df.dtypes"
   ]
  },
  {
   "cell_type": "code",
   "execution_count": 9,
   "id": "2ac6c2a9-48ae-466b-94f4-ad4793a0bf26",
   "metadata": {},
   "outputs": [],
   "source": [
    "#Removing Un-necessary or unwanted columns Parmently\n",
    "df.drop(['id'], axis=1, inplace=True)"
   ]
  },
  {
   "cell_type": "code",
   "execution_count": 10,
   "id": "1f15fb6c-84cb-45c8-adcf-68c360c99bae",
   "metadata": {},
   "outputs": [],
   "source": [
    "#Removing Un-necessary or unwanted columns Parmently\n",
    "df.drop(['Work Pressure'], axis=1, inplace=True)"
   ]
  },
  {
   "cell_type": "code",
   "execution_count": 11,
   "id": "157bd3ea-b48a-49b1-92e8-997684264115",
   "metadata": {},
   "outputs": [],
   "source": [
    "#Removing Un-necessary or unwanted columns Parmently\n",
    "df.drop(['Job Satisfaction'], axis=1, inplace=True)"
   ]
  },
  {
   "cell_type": "code",
   "execution_count": 12,
   "id": "0bbe72ae-35b4-47f2-a11e-4e0efede9795",
   "metadata": {},
   "outputs": [
    {
     "data": {
      "text/plain": [
       "Gender                                    object\n",
       "Age                                      float64\n",
       "City                                      object\n",
       "Profession                                object\n",
       "Academic Pressure                        float64\n",
       "CGPA                                     float64\n",
       "Study Satisfaction                       float64\n",
       "Sleep Duration                            object\n",
       "Dietary Habits                            object\n",
       "Degree                                    object\n",
       "Have you ever had suicidal thoughts ?     object\n",
       "Work/Study Hours                         float64\n",
       "Financial Stress                         float64\n",
       "Family History of Mental Illness          object\n",
       "Depression                                 int64\n",
       "dtype: object"
      ]
     },
     "execution_count": 12,
     "metadata": {},
     "output_type": "execute_result"
    }
   ],
   "source": [
    "#Checking Dtypes\n",
    "df.dtypes"
   ]
  },
  {
   "cell_type": "code",
   "execution_count": 13,
   "id": "975af099-d41c-45b3-bf54-f49074223ea5",
   "metadata": {},
   "outputs": [],
   "source": [
    "#here output column : Depression :\n",
    "#There are 2 types of samples/classes in this dataset mean this dataset is binary classifier\n",
    "#1 means to subscribe for deposit in bank : positive class \n",
    "#0 means to no subscribe for deposit in bank : negative class"
   ]
  },
  {
   "cell_type": "code",
   "execution_count": 14,
   "id": "5c35c368-6726-490c-95b1-ac7afabfc0bd",
   "metadata": {},
   "outputs": [
    {
     "name": "stdout",
     "output_type": "stream",
     "text": [
      "Depression\n",
      "1    16336\n",
      "0    11565\n",
      "Name: count, dtype: int64\n"
     ]
    },
    {
     "data": {
      "image/png": "[encoded data removed]",
      "text/plain": [
       "<Figure size 640x480 with 1 Axes>"
      ]
     },
     "metadata": {},
     "output_type": "display_data"
    }
   ],
   "source": [
    "#How many sample of 0's and 1's in output columns Depression in given dataset\n",
    "f=df['Depression'].value_counts()\n",
    "print(f)\n",
    "#visualise \n",
    "sb.countplot(data=df,x='Depression')\n",
    "plt.yticks(f)\n",
    "plt.show()"
   ]
  },
  {
   "cell_type": "code",
   "execution_count": 15,
   "id": "a8c3d334-341c-4c7c-b13e-2bc87349a728",
   "metadata": {},
   "outputs": [
    {
     "name": "stdout",
     "output_type": "stream",
     "text": [
      "Degree\n",
      "Class 12    6080\n",
      "B.Ed        1867\n",
      "B.Com       1506\n",
      "B.Arch      1478\n",
      "BCA         1433\n",
      "MSc         1190\n",
      "B.Tech      1152\n",
      "MCA         1044\n",
      "M.Tech      1022\n",
      "BHM          925\n",
      "BSc          888\n",
      "M.Ed         821\n",
      "B.Pharm      810\n",
      "M.Com        734\n",
      "MBBS         696\n",
      "BBA          696\n",
      "LLB          671\n",
      "BE           613\n",
      "BA           600\n",
      "M.Pharm      582\n",
      "MD           572\n",
      "MBA          562\n",
      "MA           544\n",
      "PhD          522\n",
      "LLM          482\n",
      "MHM          191\n",
      "ME           185\n",
      "Others        35\n",
      "Name: count, dtype: int64\n"
     ]
    },
    {
     "data": {
      "image/png": "[encoded data removed]",
      "text/plain": [
       "<Figure size 640x480 with 1 Axes>"
      ]
     },
     "metadata": {},
     "output_type": "display_data"
    }
   ],
   "source": [
    "#Visualising the different categorial data\n",
    "f=df['Degree'].value_counts()\n",
    "print(f)\n",
    "#visualise \n",
    "sb.countplot(data=df,x='Depression',hue='Degree')\n",
    "plt.yticks(f)\n",
    "plt.show()"
   ]
  },
  {
   "cell_type": "code",
   "execution_count": 16,
   "id": "09a625be-6a8b-42ef-9dbc-29efffbb0991",
   "metadata": {},
   "outputs": [
    {
     "name": "stdout",
     "output_type": "stream",
     "text": [
      "Academic Pressure\n",
      "3.0    7462\n",
      "5.0    6296\n",
      "4.0    5155\n",
      "1.0    4801\n",
      "2.0    4178\n",
      "0.0       9\n",
      "Name: count, dtype: int64\n"
     ]
    },
    {
     "data": {
      "image/png": "[encoded data removed]",
      "text/plain": [
       "<Figure size 640x480 with 1 Axes>"
      ]
     },
     "metadata": {},
     "output_type": "display_data"
    }
   ],
   "source": [
    "#Visualising the different categorial data\n",
    "f=df['Academic Pressure'].value_counts()\n",
    "print(f)\n",
    "#visualise \n",
    "sb.countplot(data=df,x='Depression',hue='Academic Pressure')\n",
    "plt.yticks(f)\n",
    "plt.show()"
   ]
  },
  {
   "cell_type": "code",
   "execution_count": 17,
   "id": "e00cfe3a-611e-4035-8a2a-5375f3f4e36d",
   "metadata": {},
   "outputs": [
    {
     "name": "stdout",
     "output_type": "stream",
     "text": [
      "Sleep Duration\n",
      "Less than 5 hours    8310\n",
      "7-8 hours            7346\n",
      "5-6 hours            6183\n",
      "More than 8 hours    6044\n",
      "Others                 18\n",
      "Name: count, dtype: int64\n"
     ]
    },
    {
     "data": {
      "image/png": "[encoded data removed]",
      "text/plain": [
       "<Figure size 640x480 with 1 Axes>"
      ]
     },
     "metadata": {},
     "output_type": "display_data"
    }
   ],
   "source": [
    "#Visualising the different categorial data\n",
    "f=df['Sleep Duration'].value_counts()\n",
    "print(f)\n",
    "#visualise \n",
    "sb.countplot(data=df,x='Depression',hue='Sleep Duration')\n",
    "plt.yticks(f)\n",
    "plt.show()"
   ]
  },
  {
   "cell_type": "code",
   "execution_count": 18,
   "id": "769315b8-1439-475f-9919-b5f992f1fb2d",
   "metadata": {},
   "outputs": [
    {
     "name": "stdout",
     "output_type": "stream",
     "text": [
      "Have you ever had suicidal thoughts ?\n",
      "Yes    17656\n",
      "No     10245\n",
      "Name: count, dtype: int64\n"
     ]
    },
    {
     "data": {
      "image/png": "[encoded data removed]",
      "text/plain": [
       "<Figure size 640x480 with 1 Axes>"
      ]
     },
     "metadata": {},
     "output_type": "display_data"
    }
   ],
   "source": [
    "f=df['Have you ever had suicidal thoughts ?'].value_counts()\n",
    "print(f)\n",
    "#visualise \n",
    "sb.countplot(data=df,x='Have you ever had suicidal thoughts ?')\n",
    "plt.yticks(f)\n",
    "plt.show()"
   ]
  },
  {
   "cell_type": "code",
   "execution_count": 19,
   "id": "8dd866bb-e478-4383-b30a-793219030aef",
   "metadata": {},
   "outputs": [
    {
     "name": "stdout",
     "output_type": "stream",
     "text": [
      "Family History of Mental Illness\n",
      "No     14398\n",
      "Yes    13503\n",
      "Name: count, dtype: int64\n"
     ]
    },
    {
     "data": {
      "image/png": "[encoded data removed]",
      "text/plain": [
       "<Figure size 640x480 with 1 Axes>"
      ]
     },
     "metadata": {},
     "output_type": "display_data"
    }
   ],
   "source": [
    "f=df['Family History of Mental Illness'].value_counts()\n",
    "print(f)\n",
    "#visualise \n",
    "sb.countplot(data=df,x='Family History of Mental Illness')\n",
    "plt.yticks(f)\n",
    "plt.show()"
   ]
  },
  {
   "cell_type": "code",
   "execution_count": 20,
   "id": "910df0f2-e33d-44b1-8b54-8f1a0b62fd18",
   "metadata": {},
   "outputs": [
    {
     "data": {
      "image/png": "[encoded data removed]",
      "text/plain": [
       "<Figure size 640x480 with 2 Axes>"
      ]
     },
     "metadata": {},
     "output_type": "display_data"
    }
   ],
   "source": [
    "#Visualise null values\n",
    "sb.heatmap(df.isnull())\n",
    "plt.show()"
   ]
  },
  {
   "cell_type": "code",
   "execution_count": 21,
   "id": "b897c31b-0237-47ef-aee5-2af608a54907",
   "metadata": {},
   "outputs": [],
   "source": [
    "#Removing Un-necessary or unwanted columns Parmently\n",
    "df.drop(['Profession'], axis=1, inplace=True)"
   ]
  },
  {
   "cell_type": "code",
   "execution_count": 22,
   "id": "5dd9d847-9552-4a82-affa-8dfb21bf8ab8",
   "metadata": {},
   "outputs": [],
   "source": [
    "#Changing the male female into the 1's and 0's\n",
    "from sklearn.preprocessing import LabelEncoder\n",
    "\n",
    "encoder = LabelEncoder()\n",
    "df['Gender'] = encoder.fit_transform(df['Gender'])\n",
    "\n",
    "df['City']= encoder.fit_transform(df['City'])\n",
    "\n",
    "df['Sleep Duration']= encoder.fit_transform(df['Sleep Duration'])\n",
    "\n",
    "df['Dietary Habits']= encoder.fit_transform(df['Dietary Habits'])\n",
    "\n",
    "df['Degree']= encoder.fit_transform(df['Degree'])\n",
    "\n",
    "df['Have you ever had suicidal thoughts ?']= encoder.fit_transform(df['Have you ever had suicidal thoughts ?'])\n",
    "\n",
    "df['Family History of Mental Illness']= encoder.fit_transform(df['Family History of Mental Illness'])"
   ]
  },
  {
   "cell_type": "code",
   "execution_count": 23,
   "id": "94e159ee-eaec-43a0-9bf1-1c7b5905f1e9",
   "metadata": {},
   "outputs": [],
   "source": [
    "#select input and output from given dataset\n",
    "x=df.drop(\"Depression\",axis=1)  #select input\n",
    "y=df['Depression']  #output select"
   ]
  },
  {
   "cell_type": "code",
   "execution_count": 24,
   "id": "d1f37737-7425-41b5-a6cc-434fce77c3de",
   "metadata": {},
   "outputs": [
    {
     "data": {
      "text/plain": [
       "Index(['Gender', 'Age', 'City', 'Academic Pressure', 'CGPA',\n",
       "       'Study Satisfaction', 'Sleep Duration', 'Dietary Habits', 'Degree',\n",
       "       'Have you ever had suicidal thoughts ?', 'Work/Study Hours',\n",
       "       'Financial Stress', 'Family History of Mental Illness'],\n",
       "      dtype='object')"
      ]
     },
     "execution_count": 24,
     "metadata": {},
     "output_type": "execute_result"
    }
   ],
   "source": [
    "#Checking the total records of x columns\n",
    "x.columns"
   ]
  },
  {
   "cell_type": "code",
   "execution_count": 25,
   "id": "60535f28-b647-4d52-a70e-2719ba45155b",
   "metadata": {},
   "outputs": [
    {
     "data": {
      "text/html": [
       "<div>\n",
       "<style scoped>\n",
       "    .dataframe tbody tr th:only-of-type {\n",
       "        vertical-align: middle;\n",
       "    }\n",
       "\n",
       "    .dataframe tbody tr th {\n",
       "        vertical-align: top;\n",
       "    }\n",
       "\n",
       "    .dataframe thead th {\n",
       "        text-align: right;\n",
       "    }\n",
       "</style>\n",
       "<table border=\"1\" class=\"dataframe\">\n",
       "  <thead>\n",
       "    <tr style=\"text-align: right;\">\n",
       "      <th></th>\n",
       "      <th>Gender</th>\n",
       "      <th>Age</th>\n",
       "      <th>City</th>\n",
       "      <th>Academic Pressure</th>\n",
       "      <th>CGPA</th>\n",
       "      <th>Study Satisfaction</th>\n",
       "      <th>Sleep Duration</th>\n",
       "      <th>Dietary Habits</th>\n",
       "      <th>Degree</th>\n",
       "      <th>Have you ever had suicidal thoughts ?</th>\n",
       "      <th>Work/Study Hours</th>\n",
       "      <th>Financial Stress</th>\n",
       "      <th>Family History of Mental Illness</th>\n",
       "    </tr>\n",
       "  </thead>\n",
       "  <tbody>\n",
       "    <tr>\n",
       "      <th>0</th>\n",
       "      <td>1</td>\n",
       "      <td>33.0</td>\n",
       "      <td>51</td>\n",
       "      <td>5.0</td>\n",
       "      <td>8.97</td>\n",
       "      <td>2.0</td>\n",
       "      <td>0</td>\n",
       "      <td>0</td>\n",
       "      <td>3</td>\n",
       "      <td>1</td>\n",
       "      <td>3.0</td>\n",
       "      <td>1.0</td>\n",
       "      <td>0</td>\n",
       "    </tr>\n",
       "    <tr>\n",
       "      <th>1</th>\n",
       "      <td>0</td>\n",
       "      <td>24.0</td>\n",
       "      <td>3</td>\n",
       "      <td>2.0</td>\n",
       "      <td>5.90</td>\n",
       "      <td>5.0</td>\n",
       "      <td>0</td>\n",
       "      <td>1</td>\n",
       "      <td>10</td>\n",
       "      <td>0</td>\n",
       "      <td>3.0</td>\n",
       "      <td>2.0</td>\n",
       "      <td>1</td>\n",
       "    </tr>\n",
       "    <tr>\n",
       "      <th>2</th>\n",
       "      <td>1</td>\n",
       "      <td>31.0</td>\n",
       "      <td>44</td>\n",
       "      <td>3.0</td>\n",
       "      <td>7.03</td>\n",
       "      <td>5.0</td>\n",
       "      <td>2</td>\n",
       "      <td>0</td>\n",
       "      <td>5</td>\n",
       "      <td>0</td>\n",
       "      <td>9.0</td>\n",
       "      <td>1.0</td>\n",
       "      <td>1</td>\n",
       "    </tr>\n",
       "    <tr>\n",
       "      <th>3</th>\n",
       "      <td>0</td>\n",
       "      <td>28.0</td>\n",
       "      <td>49</td>\n",
       "      <td>3.0</td>\n",
       "      <td>5.59</td>\n",
       "      <td>2.0</td>\n",
       "      <td>1</td>\n",
       "      <td>1</td>\n",
       "      <td>7</td>\n",
       "      <td>1</td>\n",
       "      <td>4.0</td>\n",
       "      <td>5.0</td>\n",
       "      <td>1</td>\n",
       "    </tr>\n",
       "    <tr>\n",
       "      <th>4</th>\n",
       "      <td>0</td>\n",
       "      <td>25.0</td>\n",
       "      <td>16</td>\n",
       "      <td>4.0</td>\n",
       "      <td>8.13</td>\n",
       "      <td>3.0</td>\n",
       "      <td>0</td>\n",
       "      <td>1</td>\n",
       "      <td>17</td>\n",
       "      <td>1</td>\n",
       "      <td>1.0</td>\n",
       "      <td>1.0</td>\n",
       "      <td>0</td>\n",
       "    </tr>\n",
       "  </tbody>\n",
       "</table>\n",
       "</div>"
      ],
      "text/plain": [
       "   Gender   Age  City  Academic Pressure  CGPA  Study Satisfaction  \\\n",
       "0       1  33.0    51                5.0  8.97                 2.0   \n",
       "1       0  24.0     3                2.0  5.90                 5.0   \n",
       "2       1  31.0    44                3.0  7.03                 5.0   \n",
       "3       0  28.0    49                3.0  5.59                 2.0   \n",
       "4       0  25.0    16                4.0  8.13                 3.0   \n",
       "\n",
       "   Sleep Duration  Dietary Habits  Degree  \\\n",
       "0               0               0       3   \n",
       "1               0               1      10   \n",
       "2               2               0       5   \n",
       "3               1               1       7   \n",
       "4               0               1      17   \n",
       "\n",
       "   Have you ever had suicidal thoughts ?  Work/Study Hours  Financial Stress  \\\n",
       "0                                      1               3.0               1.0   \n",
       "1                                      0               3.0               2.0   \n",
       "2                                      0               9.0               1.0   \n",
       "3                                      1               4.0               5.0   \n",
       "4                                      1               1.0               1.0   \n",
       "\n",
       "   Family History of Mental Illness  \n",
       "0                                 0  \n",
       "1                                 1  \n",
       "2                                 1  \n",
       "3                                 1  \n",
       "4                                 0  "
      ]
     },
     "execution_count": 25,
     "metadata": {},
     "output_type": "execute_result"
    }
   ],
   "source": [
    "#Checking the first 5 records of x columns\n",
    "x.head()"
   ]
  },
  {
   "cell_type": "code",
   "execution_count": 26,
   "id": "b815a83e-7230-4616-a3b4-4694f4fc34f6",
   "metadata": {},
   "outputs": [
    {
     "data": {
      "text/plain": [
       "Gender                                     int32\n",
       "Age                                      float64\n",
       "City                                       int32\n",
       "Academic Pressure                        float64\n",
       "CGPA                                     float64\n",
       "Study Satisfaction                       float64\n",
       "Sleep Duration                             int32\n",
       "Dietary Habits                             int32\n",
       "Degree                                     int32\n",
       "Have you ever had suicidal thoughts ?      int32\n",
       "Work/Study Hours                         float64\n",
       "Financial Stress                         float64\n",
       "Family History of Mental Illness           int32\n",
       "Depression                                 int64\n",
       "dtype: object"
      ]
     },
     "execution_count": 26,
     "metadata": {},
     "output_type": "execute_result"
    }
   ],
   "source": [
    "df.dtypes"
   ]
  },
  {
   "cell_type": "code",
   "execution_count": 27,
   "id": "4088b8fa-0421-4d4a-9695-597f7809336b",
   "metadata": {},
   "outputs": [
    {
     "data": {
      "text/html": [
       "<div>\n",
       "<style scoped>\n",
       "    .dataframe tbody tr th:only-of-type {\n",
       "        vertical-align: middle;\n",
       "    }\n",
       "\n",
       "    .dataframe tbody tr th {\n",
       "        vertical-align: top;\n",
       "    }\n",
       "\n",
       "    .dataframe thead th {\n",
       "        text-align: right;\n",
       "    }\n",
       "</style>\n",
       "<table border=\"1\" class=\"dataframe\">\n",
       "  <thead>\n",
       "    <tr style=\"text-align: right;\">\n",
       "      <th></th>\n",
       "      <th>Gender</th>\n",
       "      <th>Age</th>\n",
       "      <th>City</th>\n",
       "      <th>Academic Pressure</th>\n",
       "      <th>CGPA</th>\n",
       "      <th>Study Satisfaction</th>\n",
       "      <th>Sleep Duration</th>\n",
       "      <th>Dietary Habits</th>\n",
       "      <th>Degree</th>\n",
       "      <th>Have you ever had suicidal thoughts ?</th>\n",
       "      <th>Work/Study Hours</th>\n",
       "      <th>Financial Stress</th>\n",
       "      <th>Family History of Mental Illness</th>\n",
       "    </tr>\n",
       "  </thead>\n",
       "  <tbody>\n",
       "    <tr>\n",
       "      <th>0</th>\n",
       "      <td>1</td>\n",
       "      <td>33.0</td>\n",
       "      <td>51</td>\n",
       "      <td>5.0</td>\n",
       "      <td>8.97</td>\n",
       "      <td>2.0</td>\n",
       "      <td>0</td>\n",
       "      <td>0</td>\n",
       "      <td>3</td>\n",
       "      <td>1</td>\n",
       "      <td>3.0</td>\n",
       "      <td>1.0</td>\n",
       "      <td>0</td>\n",
       "    </tr>\n",
       "    <tr>\n",
       "      <th>1</th>\n",
       "      <td>0</td>\n",
       "      <td>24.0</td>\n",
       "      <td>3</td>\n",
       "      <td>2.0</td>\n",
       "      <td>5.90</td>\n",
       "      <td>5.0</td>\n",
       "      <td>0</td>\n",
       "      <td>1</td>\n",
       "      <td>10</td>\n",
       "      <td>0</td>\n",
       "      <td>3.0</td>\n",
       "      <td>2.0</td>\n",
       "      <td>1</td>\n",
       "    </tr>\n",
       "    <tr>\n",
       "      <th>2</th>\n",
       "      <td>1</td>\n",
       "      <td>31.0</td>\n",
       "      <td>44</td>\n",
       "      <td>3.0</td>\n",
       "      <td>7.03</td>\n",
       "      <td>5.0</td>\n",
       "      <td>2</td>\n",
       "      <td>0</td>\n",
       "      <td>5</td>\n",
       "      <td>0</td>\n",
       "      <td>9.0</td>\n",
       "      <td>1.0</td>\n",
       "      <td>1</td>\n",
       "    </tr>\n",
       "    <tr>\n",
       "      <th>3</th>\n",
       "      <td>0</td>\n",
       "      <td>28.0</td>\n",
       "      <td>49</td>\n",
       "      <td>3.0</td>\n",
       "      <td>5.59</td>\n",
       "      <td>2.0</td>\n",
       "      <td>1</td>\n",
       "      <td>1</td>\n",
       "      <td>7</td>\n",
       "      <td>1</td>\n",
       "      <td>4.0</td>\n",
       "      <td>5.0</td>\n",
       "      <td>1</td>\n",
       "    </tr>\n",
       "    <tr>\n",
       "      <th>4</th>\n",
       "      <td>0</td>\n",
       "      <td>25.0</td>\n",
       "      <td>16</td>\n",
       "      <td>4.0</td>\n",
       "      <td>8.13</td>\n",
       "      <td>3.0</td>\n",
       "      <td>0</td>\n",
       "      <td>1</td>\n",
       "      <td>17</td>\n",
       "      <td>1</td>\n",
       "      <td>1.0</td>\n",
       "      <td>1.0</td>\n",
       "      <td>0</td>\n",
       "    </tr>\n",
       "  </tbody>\n",
       "</table>\n",
       "</div>"
      ],
      "text/plain": [
       "   Gender   Age  City  Academic Pressure  CGPA  Study Satisfaction  \\\n",
       "0       1  33.0    51                5.0  8.97                 2.0   \n",
       "1       0  24.0     3                2.0  5.90                 5.0   \n",
       "2       1  31.0    44                3.0  7.03                 5.0   \n",
       "3       0  28.0    49                3.0  5.59                 2.0   \n",
       "4       0  25.0    16                4.0  8.13                 3.0   \n",
       "\n",
       "   Sleep Duration  Dietary Habits  Degree  \\\n",
       "0               0               0       3   \n",
       "1               0               1      10   \n",
       "2               2               0       5   \n",
       "3               1               1       7   \n",
       "4               0               1      17   \n",
       "\n",
       "   Have you ever had suicidal thoughts ?  Work/Study Hours  Financial Stress  \\\n",
       "0                                      1               3.0               1.0   \n",
       "1                                      0               3.0               2.0   \n",
       "2                                      0               9.0               1.0   \n",
       "3                                      1               4.0               5.0   \n",
       "4                                      1               1.0               1.0   \n",
       "\n",
       "   Family History of Mental Illness  \n",
       "0                                 0  \n",
       "1                                 1  \n",
       "2                                 1  \n",
       "3                                 1  \n",
       "4                                 0  "
      ]
     },
     "execution_count": 27,
     "metadata": {},
     "output_type": "execute_result"
    }
   ],
   "source": [
    "x.head()"
   ]
  },
  {
   "cell_type": "code",
   "execution_count": 28,
   "id": "87447f7f-17da-494c-ad3f-437b5b01f337",
   "metadata": {},
   "outputs": [],
   "source": [
    "#train_test_split\n",
    "from sklearn.model_selection import train_test_split\n",
    "x_train,x_test,y_train,y_test=train_test_split(x,y,test_size=0.3,random_state=1)"
   ]
  },
  {
   "cell_type": "code",
   "execution_count": 29,
   "id": "90aa054f-7a5e-4fa2-ab97-64aa78cd0c59",
   "metadata": {},
   "outputs": [
    {
     "data": {
      "text/plain": [
       "((19530, 13), (8371, 13), (19530,), (8371,))"
      ]
     },
     "execution_count": 29,
     "metadata": {},
     "output_type": "execute_result"
    }
   ],
   "source": [
    "x_train.shape,x_test.shape,y_train.shape,y_test.shape"
   ]
  },
  {
   "cell_type": "code",
   "execution_count": 30,
   "id": "c954bd72-3101-4f61-88e0-232e2d59e2fd",
   "metadata": {},
   "outputs": [],
   "source": [
    "#Apply StandardScaler on x_train and x_test\n",
    "from sklearn.preprocessing import StandardScaler\n",
    "#Create the object of StandardScaler\n",
    "ss=StandardScaler()\n",
    "x_train=ss.fit_transform(x_train)\n",
    "x_test=ss.transform(x_test)"
   ]
  },
  {
   "cell_type": "code",
   "execution_count": 31,
   "id": "c525463b-3465-434b-a21b-8149fed484db",
   "metadata": {},
   "outputs": [
    {
     "data": {
      "text/plain": [
       "array([[ 0.89090844,  1.26251426, -0.0803165 , ...,  1.03741892,\n",
       "         1.29556479, -0.9739191 ],\n",
       "       [-1.1224498 ,  1.66919923, -0.63080316, ..., -1.11595133,\n",
       "         0.5991354 ,  1.02677933],\n",
       "       [ 0.89090844,  0.04245933,  1.08182201, ...,  0.49907636,\n",
       "        -1.49015277, -0.9739191 ],\n",
       "       ...,\n",
       "       [ 0.89090844,  0.4491443 , -0.63080316, ...,  0.76824764,\n",
       "        -0.09729399, -0.9739191 ],\n",
       "       [-1.1224498 ,  1.66919923, -0.69196834, ...,  0.76824764,\n",
       "         0.5991354 , -0.9739191 ],\n",
       "       [-1.1224498 ,  0.65248679,  0.77599609, ...,  1.3065902 ,\n",
       "        -1.49015277, -0.9739191 ]])"
      ]
     },
     "execution_count": 31,
     "metadata": {},
     "output_type": "execute_result"
    }
   ],
   "source": [
    "x_train"
   ]
  },
  {
   "cell_type": "code",
   "execution_count": 32,
   "id": "1d8555fc-dbdb-4ce9-a374-3aa45fbcdeaa",
   "metadata": {},
   "outputs": [],
   "source": [
    "#create a user defined function and passing the object of classification algorithm\n",
    "def create_model(model):   #create_model() user defined function name and \n",
    "    #model user defined object of classification algorithm\n",
    "    model.fit(x_train,y_train)  #train the model with 70% data\n",
    "    y_pred=model.predict(x_test) #Test the model with 30% testing input\n",
    "    #print the confusion matrix\n",
    "    cm=confusion_matrix(y_test,y_pred)\n",
    "    print(cm)\n",
    "    #print classification report\n",
    "    print(classification_report(y_test,y_pred))\n",
    "    return model"
   ]
  },
  {
   "cell_type": "code",
   "execution_count": 33,
   "id": "cf60364c-f038-47bf-8d24-56de9e129f72",
   "metadata": {},
   "outputs": [],
   "source": [
    "#confusion matrix\n",
    "from sklearn.metrics import confusion_matrix\n",
    "\n",
    "#classification report\n",
    "from sklearn.metrics import classification_report"
   ]
  },
  {
   "cell_type": "code",
   "execution_count": 34,
   "id": "a81f3613-f08c-487e-9af8-5efd5b0d375a",
   "metadata": {},
   "outputs": [],
   "source": [
    "#Perform model with Logistic Regression\n",
    "#Call inbulit class LogisticRegression\n",
    "from sklearn.linear_model import LogisticRegression"
   ]
  },
  {
   "cell_type": "code",
   "execution_count": 35,
   "id": "ee8fa5bf-6d5c-43d1-bd75-312cf9b0b944",
   "metadata": {},
   "outputs": [],
   "source": [
    "#Create object of LogisticRegression class\n",
    "lr=LogisticRegression()"
   ]
  },
  {
   "cell_type": "code",
   "execution_count": 36,
   "id": "c2425ac6-4669-4334-b19d-2206d3cabadc",
   "metadata": {},
   "outputs": [
    {
     "name": "stdout",
     "output_type": "stream",
     "text": [
      "[[2722  721]\n",
      " [ 532 4396]]\n",
      "              precision    recall  f1-score   support\n",
      "\n",
      "           0       0.84      0.79      0.81      3443\n",
      "           1       0.86      0.89      0.88      4928\n",
      "\n",
      "    accuracy                           0.85      8371\n",
      "   macro avg       0.85      0.84      0.84      8371\n",
      "weighted avg       0.85      0.85      0.85      8371\n",
      "\n"
     ]
    }
   ],
   "source": [
    "#train , test the model and print the output matrix\n",
    "#call function\n",
    "lr=create_model(lr)"
   ]
  },
  {
   "cell_type": "code",
   "execution_count": 37,
   "id": "e484bd01-47a9-4811-858b-26e00cf1758d",
   "metadata": {},
   "outputs": [],
   "source": [
    "#Here Recall=0.89 means 89% It is good , but we try , can be much more better to this score \n",
    "#region of less score , Model is overfit \n",
    "#We use second classification algorithm DecisionTreeClassifier\n",
    "#Limitation of LogisticRegression : it is not select automatic input feactures to select \n",
    "#the output\n",
    "#use DecisionTreeClassifier algorithm :Advantage : It is used to select input Features\n",
    "#automatic to predict the output of use 2 methods : Entropy and Giniindex"
   ]
  },
  {
   "cell_type": "code",
   "execution_count": 38,
   "id": "d778cd33-0a83-4872-bf42-7d70b2fa2909",
   "metadata": {},
   "outputs": [],
   "source": [
    "#Perform model with DecisionTreeClassifier\n",
    "#Call inbulit class DecisionTreeClassifier\n",
    "from sklearn.tree import DecisionTreeClassifier"
   ]
  },
  {
   "cell_type": "code",
   "execution_count": 39,
   "id": "4cd86526-0105-4f45-ad06-b40a8466a67f",
   "metadata": {},
   "outputs": [],
   "source": [
    "#Create the object of DecisionTreeClassifier class\n",
    "dt=DecisionTreeClassifier(random_state=1) #by default critersion='Gini'"
   ]
  },
  {
   "cell_type": "code",
   "execution_count": 40,
   "id": "a880cf92-b7f8-4465-91be-8ed3122be805",
   "metadata": {},
   "outputs": [
    {
     "name": "stdout",
     "output_type": "stream",
     "text": [
      "[[2508  935]\n",
      " [ 971 3957]]\n",
      "              precision    recall  f1-score   support\n",
      "\n",
      "           0       0.72      0.73      0.72      3443\n",
      "           1       0.81      0.80      0.81      4928\n",
      "\n",
      "    accuracy                           0.77      8371\n",
      "   macro avg       0.76      0.77      0.77      8371\n",
      "weighted avg       0.77      0.77      0.77      8371\n",
      "\n"
     ]
    }
   ],
   "source": [
    "#train the model with DecisionTreeClassifier , use fit() inbulit method\n",
    "dt=create_model(dt)"
   ]
  },
  {
   "cell_type": "code",
   "execution_count": 41,
   "id": "9f355c12-c3d1-4188-91a8-1aed0017a823",
   "metadata": {},
   "outputs": [
    {
     "data": {
      "text/html": [
       "<div>\n",
       "<style scoped>\n",
       "    .dataframe tbody tr th:only-of-type {\n",
       "        vertical-align: middle;\n",
       "    }\n",
       "\n",
       "    .dataframe tbody tr th {\n",
       "        vertical-align: top;\n",
       "    }\n",
       "\n",
       "    .dataframe thead th {\n",
       "        text-align: right;\n",
       "    }\n",
       "</style>\n",
       "<table border=\"1\" class=\"dataframe\">\n",
       "  <thead>\n",
       "    <tr style=\"text-align: right;\">\n",
       "      <th></th>\n",
       "      <th>Input column</th>\n",
       "      <th>Information Gain</th>\n",
       "    </tr>\n",
       "  </thead>\n",
       "  <tbody>\n",
       "    <tr>\n",
       "      <th>9</th>\n",
       "      <td>Have you ever had suicidal thoughts ?</td>\n",
       "      <td>0.294822</td>\n",
       "    </tr>\n",
       "    <tr>\n",
       "      <th>3</th>\n",
       "      <td>Academic Pressure</td>\n",
       "      <td>0.134937</td>\n",
       "    </tr>\n",
       "    <tr>\n",
       "      <th>4</th>\n",
       "      <td>CGPA</td>\n",
       "      <td>0.098286</td>\n",
       "    </tr>\n",
       "    <tr>\n",
       "      <th>1</th>\n",
       "      <td>Age</td>\n",
       "      <td>0.078487</td>\n",
       "    </tr>\n",
       "    <tr>\n",
       "      <th>2</th>\n",
       "      <td>City</td>\n",
       "      <td>0.074213</td>\n",
       "    </tr>\n",
       "    <tr>\n",
       "      <th>11</th>\n",
       "      <td>Financial Stress</td>\n",
       "      <td>0.070054</td>\n",
       "    </tr>\n",
       "    <tr>\n",
       "      <th>10</th>\n",
       "      <td>Work/Study Hours</td>\n",
       "      <td>0.062198</td>\n",
       "    </tr>\n",
       "    <tr>\n",
       "      <th>8</th>\n",
       "      <td>Degree</td>\n",
       "      <td>0.061870</td>\n",
       "    </tr>\n",
       "    <tr>\n",
       "      <th>5</th>\n",
       "      <td>Study Satisfaction</td>\n",
       "      <td>0.039050</td>\n",
       "    </tr>\n",
       "    <tr>\n",
       "      <th>6</th>\n",
       "      <td>Sleep Duration</td>\n",
       "      <td>0.030419</td>\n",
       "    </tr>\n",
       "    <tr>\n",
       "      <th>7</th>\n",
       "      <td>Dietary Habits</td>\n",
       "      <td>0.026952</td>\n",
       "    </tr>\n",
       "    <tr>\n",
       "      <th>12</th>\n",
       "      <td>Family History of Mental Illness</td>\n",
       "      <td>0.015782</td>\n",
       "    </tr>\n",
       "    <tr>\n",
       "      <th>0</th>\n",
       "      <td>Gender</td>\n",
       "      <td>0.012929</td>\n",
       "    </tr>\n",
       "  </tbody>\n",
       "</table>\n",
       "</div>"
      ],
      "text/plain": [
       "                             Input column  Information Gain\n",
       "9   Have you ever had suicidal thoughts ?          0.294822\n",
       "3                       Academic Pressure          0.134937\n",
       "4                                    CGPA          0.098286\n",
       "1                                     Age          0.078487\n",
       "2                                    City          0.074213\n",
       "11                       Financial Stress          0.070054\n",
       "10                       Work/Study Hours          0.062198\n",
       "8                                  Degree          0.061870\n",
       "5                      Study Satisfaction          0.039050\n",
       "6                          Sleep Duration          0.030419\n",
       "7                          Dietary Habits          0.026952\n",
       "12       Family History of Mental Illness          0.015782\n",
       "0                                  Gender          0.012929"
      ]
     },
     "execution_count": 41,
     "metadata": {},
     "output_type": "execute_result"
    }
   ],
   "source": [
    "ig=dt.feature_importances_\n",
    "dict={\"Input column\" :x.columns,'Information Gain':ig}\n",
    "df=pd.DataFrame(dict)\n",
    "#sorting dataframe df1 descending order according to Information Gain\n",
    "df.sort_values('Information Gain',ascending=False)"
   ]
  },
  {
   "cell_type": "code",
   "execution_count": 42,
   "id": "ad493d5b-5809-437d-8b5b-4f4fa00fd695",
   "metadata": {},
   "outputs": [],
   "source": [
    "#Visualise Tree\n",
    "#from sklearn import tree\n",
    "#features=x.columns  #features user defined variable\n",
    "#fig=plt.figure(figsize=(20,20))\n",
    "#_=tree.plot_tree(dt,feature_names=features)"
   ]
  },
  {
   "cell_type": "code",
   "execution_count": 43,
   "id": "c878a179-c88d-47ce-b895-b7e6df522992",
   "metadata": {},
   "outputs": [],
   "source": [
    "#no change recall score=80%\n",
    "#try DecisionTreeClassifier with entropy\n",
    "dt1=DecisionTreeClassifier(criterion=\"entropy\",random_state=1)"
   ]
  },
  {
   "cell_type": "code",
   "execution_count": 44,
   "id": "1f5a22dc-b242-4d76-9ea4-1812609bc4e1",
   "metadata": {},
   "outputs": [
    {
     "name": "stdout",
     "output_type": "stream",
     "text": [
      "[[2534  909]\n",
      " [ 980 3948]]\n",
      "              precision    recall  f1-score   support\n",
      "\n",
      "           0       0.72      0.74      0.73      3443\n",
      "           1       0.81      0.80      0.81      4928\n",
      "\n",
      "    accuracy                           0.77      8371\n",
      "   macro avg       0.77      0.77      0.77      8371\n",
      "weighted avg       0.78      0.77      0.77      8371\n",
      "\n"
     ]
    }
   ],
   "source": [
    "dt1=create_model(dt1)"
   ]
  },
  {
   "cell_type": "code",
   "execution_count": 45,
   "id": "c8bcfcc6-a37b-4ab7-9657-ae372ae4cd28",
   "metadata": {},
   "outputs": [
    {
     "data": {
      "text/html": [
       "<div>\n",
       "<style scoped>\n",
       "    .dataframe tbody tr th:only-of-type {\n",
       "        vertical-align: middle;\n",
       "    }\n",
       "\n",
       "    .dataframe tbody tr th {\n",
       "        vertical-align: top;\n",
       "    }\n",
       "\n",
       "    .dataframe thead th {\n",
       "        text-align: right;\n",
       "    }\n",
       "</style>\n",
       "<table border=\"1\" class=\"dataframe\">\n",
       "  <thead>\n",
       "    <tr style=\"text-align: right;\">\n",
       "      <th></th>\n",
       "      <th>Input column</th>\n",
       "      <th>Information Gain</th>\n",
       "    </tr>\n",
       "  </thead>\n",
       "  <tbody>\n",
       "    <tr>\n",
       "      <th>9</th>\n",
       "      <td>Have you ever had suicidal thoughts ?</td>\n",
       "      <td>0.224996</td>\n",
       "    </tr>\n",
       "    <tr>\n",
       "      <th>3</th>\n",
       "      <td>Academic Pressure</td>\n",
       "      <td>0.131529</td>\n",
       "    </tr>\n",
       "    <tr>\n",
       "      <th>4</th>\n",
       "      <td>CGPA</td>\n",
       "      <td>0.111994</td>\n",
       "    </tr>\n",
       "    <tr>\n",
       "      <th>1</th>\n",
       "      <td>Age</td>\n",
       "      <td>0.084101</td>\n",
       "    </tr>\n",
       "    <tr>\n",
       "      <th>2</th>\n",
       "      <td>City</td>\n",
       "      <td>0.082591</td>\n",
       "    </tr>\n",
       "    <tr>\n",
       "      <th>8</th>\n",
       "      <td>Degree</td>\n",
       "      <td>0.077407</td>\n",
       "    </tr>\n",
       "    <tr>\n",
       "      <th>11</th>\n",
       "      <td>Financial Stress</td>\n",
       "      <td>0.074193</td>\n",
       "    </tr>\n",
       "    <tr>\n",
       "      <th>10</th>\n",
       "      <td>Work/Study Hours</td>\n",
       "      <td>0.069770</td>\n",
       "    </tr>\n",
       "    <tr>\n",
       "      <th>5</th>\n",
       "      <td>Study Satisfaction</td>\n",
       "      <td>0.046438</td>\n",
       "    </tr>\n",
       "    <tr>\n",
       "      <th>6</th>\n",
       "      <td>Sleep Duration</td>\n",
       "      <td>0.037023</td>\n",
       "    </tr>\n",
       "    <tr>\n",
       "      <th>7</th>\n",
       "      <td>Dietary Habits</td>\n",
       "      <td>0.031314</td>\n",
       "    </tr>\n",
       "    <tr>\n",
       "      <th>12</th>\n",
       "      <td>Family History of Mental Illness</td>\n",
       "      <td>0.014804</td>\n",
       "    </tr>\n",
       "    <tr>\n",
       "      <th>0</th>\n",
       "      <td>Gender</td>\n",
       "      <td>0.013840</td>\n",
       "    </tr>\n",
       "  </tbody>\n",
       "</table>\n",
       "</div>"
      ],
      "text/plain": [
       "                             Input column  Information Gain\n",
       "9   Have you ever had suicidal thoughts ?          0.224996\n",
       "3                       Academic Pressure          0.131529\n",
       "4                                    CGPA          0.111994\n",
       "1                                     Age          0.084101\n",
       "2                                    City          0.082591\n",
       "8                                  Degree          0.077407\n",
       "11                       Financial Stress          0.074193\n",
       "10                       Work/Study Hours          0.069770\n",
       "5                      Study Satisfaction          0.046438\n",
       "6                          Sleep Duration          0.037023\n",
       "7                          Dietary Habits          0.031314\n",
       "12       Family History of Mental Illness          0.014804\n",
       "0                                  Gender          0.013840"
      ]
     },
     "execution_count": 45,
     "metadata": {},
     "output_type": "execute_result"
    }
   ],
   "source": [
    "ig=dt1.feature_importances_\n",
    "dict={\"Input column\" :x.columns,'Information Gain':ig}\n",
    "df2=pd.DataFrame(dict)\n",
    "#sorting dataframe df1 descending order according to Information Gain\n",
    "df2.sort_values('Information Gain',ascending=False)"
   ]
  },
  {
   "cell_type": "code",
   "execution_count": 46,
   "id": "0cb08eda-fb19-4788-90d7-167f33c8e216",
   "metadata": {},
   "outputs": [
    {
     "data": {
      "text/plain": [
       "'for i in range(1,9) : #start i=1 stop=9-1=8  step=+1\\n     #create objectof DecisionTreeClassifier and passing the value of max_depth\\n     #by default criterion=\\'gini\\'\\n     dt2=DecisionTreeClassifier(max_depth=i,random_state=1)   #bydefault gini index\\n     print(\"Max Depth : \",i)\\n     #Call Function\\n     dt2=create_model(dt2)\\n     '"
      ]
     },
     "execution_count": 46,
     "metadata": {},
     "output_type": "execute_result"
    }
   ],
   "source": [
    "'''for i in range(1,9) : #start i=1 stop=9-1=8  step=+1\n",
    "     #create objectof DecisionTreeClassifier and passing the value of max_depth\n",
    "     #by default criterion='gini'\n",
    "     dt2=DecisionTreeClassifier(max_depth=i,random_state=1)   #bydefault gini index\n",
    "     print(\"Max Depth : \",i)\n",
    "     #Call Function\n",
    "     dt2=create_model(dt2)\n",
    "     '''"
   ]
  },
  {
   "cell_type": "code",
   "execution_count": 47,
   "id": "62406ad1-e781-485f-89f4-167ee4b9b68f",
   "metadata": {},
   "outputs": [
    {
     "name": "stdout",
     "output_type": "stream",
     "text": [
      "[[2635  808]\n",
      " [ 651 4277]]\n",
      "              precision    recall  f1-score   support\n",
      "\n",
      "           0       0.80      0.77      0.78      3443\n",
      "           1       0.84      0.87      0.85      4928\n",
      "\n",
      "    accuracy                           0.83      8371\n",
      "   macro avg       0.82      0.82      0.82      8371\n",
      "weighted avg       0.82      0.83      0.83      8371\n",
      "\n"
     ]
    }
   ],
   "source": [
    "#limitation of DecisionTreeClassifier : model is Overfit\n",
    "#To reduced overfitting the model : use 2 Pruning Technique\n",
    "#There are 2 types of Purning Techinque\n",
    "#1. max_depth\n",
    "#2. min_sample_leaf\n",
    "\n",
    "\n",
    "#leaf means no any child\n",
    "#max_depth and min_sample_leaf inbulit input parameter of DecisionTreeClassifier class\n",
    "#max_depth can be <=8 means value of max_depth can not be more than 8\n",
    "#create object of DecisionTreeClasifier and passing the value of max_depth\n",
    "#by default criterion='gini'\n",
    "#max_depth>=1 and max_depth<=8\n",
    "\n",
    "\n",
    "#create object of DecisionTreeClassifier and passing the value of max_depth\n",
    "#by default criterion='gini'\n",
    "dt2=DecisionTreeClassifier(max_depth=4,random_state=1)   #bydefault gini index\n",
    "\n",
    "#Call Function\n",
    "dt2=create_model(dt2)"
   ]
  },
  {
   "cell_type": "code",
   "execution_count": 48,
   "id": "3ac165b4-a99a-4f58-b100-7c2ffeb87e3d",
   "metadata": {},
   "outputs": [],
   "source": [
    "#recall : 0.87 means 87% and Accuracy=83%\n",
    "#max_depth=5\n",
    "#gini index"
   ]
  },
  {
   "cell_type": "code",
   "execution_count": 49,
   "id": "1e995cd7-ae76-4800-b8e7-0477da93aa2a",
   "metadata": {},
   "outputs": [],
   "source": [
    "#Apply Second purning techinque min_sample_leaf : inbulit parameter of \n",
    "#DecisionTreeClassifier class\n",
    "#value of min_sample_leaf parameter>=50 and min_sample_leaf parameter<=100\n",
    "#leaf means no child "
   ]
  },
  {
   "cell_type": "code",
   "execution_count": 50,
   "id": "74bb6e6e-bc54-42e8-b3d6-98a6a100ff59",
   "metadata": {},
   "outputs": [
    {
     "data": {
      "text/plain": [
       "'for i in range(50,101) : #start i=50 stop=101-1=100  step=+1\\n     #create objectof DecisionTreeClassifier and passing the value of min_sample_leaf\\n     #by default criterion=\\'gini\\'\\n     dt2=DecisionTreeClassifier(min_samples_leaf=i,random_state=1)   #bydefault gini index\\n     print(\"min_sample_leaf : \",i)\\n     #Call Function\\n     dt2=create_model(dt2)'"
      ]
     },
     "execution_count": 50,
     "metadata": {},
     "output_type": "execute_result"
    }
   ],
   "source": [
    "'''for i in range(50,101) : #start i=50 stop=101-1=100  step=+1\n",
    "     #create objectof DecisionTreeClassifier and passing the value of min_sample_leaf\n",
    "     #by default criterion='gini'\n",
    "     dt2=DecisionTreeClassifier(min_samples_leaf=i,random_state=1)   #bydefault gini index\n",
    "     print(\"min_sample_leaf : \",i)\n",
    "     #Call Function\n",
    "     dt2=create_model(dt2)'''"
   ]
  },
  {
   "cell_type": "code",
   "execution_count": 51,
   "id": "ff280943-efa4-4d37-b3af-84806023b128",
   "metadata": {},
   "outputs": [
    {
     "name": "stdout",
     "output_type": "stream",
     "text": [
      "[[2690  753]\n",
      " [ 615 4313]]\n",
      "              precision    recall  f1-score   support\n",
      "\n",
      "           0       0.81      0.78      0.80      3443\n",
      "           1       0.85      0.88      0.86      4928\n",
      "\n",
      "    accuracy                           0.84      8371\n",
      "   macro avg       0.83      0.83      0.83      8371\n",
      "weighted avg       0.84      0.84      0.84      8371\n",
      "\n"
     ]
    }
   ],
   "source": [
    "#create objectof DecisionTreeClassifier and passing the value of min_sample_leaf\n",
    "#by default criterion='gini'\n",
    "dt2=DecisionTreeClassifier(min_samples_leaf=50,random_state=1)   #bydefault gini index\n",
    "#Call Function\n",
    "dt2=create_model(dt2)"
   ]
  },
  {
   "cell_type": "code",
   "execution_count": 52,
   "id": "2813b481-fe17-42c1-a8c4-d62d803e0e18",
   "metadata": {},
   "outputs": [],
   "source": [
    "#clearly understand\n",
    "#recall score=.88 means 88% and accuracy =0.84 means 84% : min_sample_leaf=50 : gini\n",
    "#recall score=.87 means 87% and accuracy =0.83 means 83% : max_depth=5 : gini"
   ]
  },
  {
   "cell_type": "code",
   "execution_count": 53,
   "id": "bc062745-83de-4e51-82fd-b78529da0352",
   "metadata": {},
   "outputs": [],
   "source": [
    "from sklearn.ensemble import RandomForestClassifier"
   ]
  },
  {
   "cell_type": "code",
   "execution_count": 54,
   "id": "75684e2d-5184-4af3-b4c0-d252ed1186e2",
   "metadata": {},
   "outputs": [
    {
     "data": {
      "text/plain": [
       "'\\n#Create the object of RandomForestClassifier class (min DT=10 and max DT=100)\\nfor i in range(10,101): #start i=10, stop=101-1=100 step=+1\\n    #Create the object of RandomForestClassifier class\\n    rfc=RandomForestClassifier(random_state=1,n_estimators=i)\\n    #n_estimators : inbulit parameter of RandomForestClassifier class , how many DecisionTree\\n    print(\"No. of Decision Tree : \",i)\\n    #call function\\n    rfc=create_model(rfc)\\n    '"
      ]
     },
     "execution_count": 54,
     "metadata": {},
     "output_type": "execute_result"
    }
   ],
   "source": [
    "'''\n",
    "#Create the object of RandomForestClassifier class (min DT=10 and max DT=100)\n",
    "for i in range(10,101): #start i=10, stop=101-1=100 step=+1\n",
    "    #Create the object of RandomForestClassifier class\n",
    "    rfc=RandomForestClassifier(random_state=1,n_estimators=i)\n",
    "    #n_estimators : inbulit parameter of RandomForestClassifier class , how many DecisionTree\n",
    "    print(\"No. of Decision Tree : \",i)\n",
    "    #call function\n",
    "    rfc=create_model(rfc)\n",
    "    '''"
   ]
  },
  {
   "cell_type": "code",
   "execution_count": 55,
   "id": "608032c6-8b4c-4ca0-939f-1d46dbe0fae2",
   "metadata": {},
   "outputs": [
    {
     "name": "stdout",
     "output_type": "stream",
     "text": [
      "[[2740  703]\n",
      " [ 666 4262]]\n",
      "              precision    recall  f1-score   support\n",
      "\n",
      "           0       0.80      0.80      0.80      3443\n",
      "           1       0.86      0.86      0.86      4928\n",
      "\n",
      "    accuracy                           0.84      8371\n",
      "   macro avg       0.83      0.83      0.83      8371\n",
      "weighted avg       0.84      0.84      0.84      8371\n",
      "\n"
     ]
    }
   ],
   "source": [
    "rfc=RandomForestClassifier(random_state=1,n_estimators=20)\n",
    "#n_estimators : inbulit parameter of RandomForestClassifier class , how many DecisionTree\n",
    "#call function\n",
    "rfc=create_model(rfc)"
   ]
  },
  {
   "cell_type": "code",
   "execution_count": 56,
   "id": "2fafe2f8-2ad4-4ff4-ac55-10877a4c9409",
   "metadata": {},
   "outputs": [],
   "source": [
    "#in RandomForestClassifier : Recall :86% and Accuracy :84%"
   ]
  },
  {
   "cell_type": "code",
   "execution_count": 57,
   "id": "a636208b-eac5-4575-9e9a-211d925daeff",
   "metadata": {},
   "outputs": [],
   "source": [
    "#Next Ensembling Techinque : Boosting Techinque\n",
    "#1. ADA Boost :Adaptor Boosting\n",
    "#ADA Boost : work on Decision Stump \n",
    "#What is Decision Stump ?\n",
    "#Decision Stump means one root node and 2 child (leaf node)\n",
    "\n",
    "\n",
    "#inbulit inner class ADA Boost Classifier --> inbulit outer class ensemble --> sklearn package\n",
    "from sklearn.ensemble import AdaBoostClassifier"
   ]
  },
  {
   "cell_type": "code",
   "execution_count": 58,
   "id": "57add68c-544b-4b23-8173-1ec63b83fdf7",
   "metadata": {},
   "outputs": [
    {
     "data": {
      "text/plain": [
       "(27901, 13)"
      ]
     },
     "execution_count": 58,
     "metadata": {},
     "output_type": "execute_result"
    }
   ],
   "source": [
    "x.shape   #here total of input columns =13\n",
    "#max Decision Stump=13 and min Decision Stump =1 \n",
    "#use inbulit-parameter of AdaBoostClassifier class :n_estimator : no.of columns"
   ]
  },
  {
   "cell_type": "code",
   "execution_count": 59,
   "id": "3c352445-5310-492f-9ff8-a415bc7fef3a",
   "metadata": {},
   "outputs": [
    {
     "data": {
      "text/plain": [
       "'for i in range(1,17):   #start=1st column and 17-1=16th total input columns\\n    #create the object of adaBoostClassifier class and Passing the value of Parameter n_estimators\\n    ada=AdaBoostClassifier(random_state=1,n_estimators=i)\\n    print(\"No. of Decision Stump : \",i)\\n    #call function\\n    ada=create_model(ada)\\n    '"
      ]
     },
     "execution_count": 59,
     "metadata": {},
     "output_type": "execute_result"
    }
   ],
   "source": [
    "'''for i in range(1,17):   #start=1st column and 17-1=16th total input columns\n",
    "    #create the object of adaBoostClassifier class and Passing the value of Parameter n_estimators\n",
    "    ada=AdaBoostClassifier(random_state=1,n_estimators=i)\n",
    "    print(\"No. of Decision Stump : \",i)\n",
    "    #call function\n",
    "    ada=create_model(ada)\n",
    "    '''"
   ]
  },
  {
   "cell_type": "code",
   "execution_count": 60,
   "id": "82b83197-cef6-4aa6-9f17-0f27112849ad",
   "metadata": {},
   "outputs": [
    {
     "name": "stdout",
     "output_type": "stream",
     "text": [
      "[[2714  729]\n",
      " [ 568 4360]]\n",
      "              precision    recall  f1-score   support\n",
      "\n",
      "           0       0.83      0.79      0.81      3443\n",
      "           1       0.86      0.88      0.87      4928\n",
      "\n",
      "    accuracy                           0.85      8371\n",
      "   macro avg       0.84      0.84      0.84      8371\n",
      "weighted avg       0.84      0.85      0.84      8371\n",
      "\n"
     ]
    }
   ],
   "source": [
    "#create the object of adaBoostClassifier class and Passing the value of Parameter n_estimators\n",
    "ada=AdaBoostClassifier(random_state=1,n_estimators=16)\n",
    "#call function\n",
    "ada=create_model(ada)"
   ]
  },
  {
   "cell_type": "code",
   "execution_count": 61,
   "id": "9515681f-054d-47aa-96f7-bdfdcc75fa45",
   "metadata": {},
   "outputs": [],
   "source": [
    "#in AdaBoostClassifier : Recall :88% and Accuracy :85%"
   ]
  },
  {
   "cell_type": "code",
   "execution_count": 62,
   "id": "90ab06bc-7b90-4bda-b4c3-61d9779ccfe3",
   "metadata": {},
   "outputs": [
    {
     "data": {
      "text/html": [
       "<div>\n",
       "<style scoped>\n",
       "    .dataframe tbody tr th:only-of-type {\n",
       "        vertical-align: middle;\n",
       "    }\n",
       "\n",
       "    .dataframe tbody tr th {\n",
       "        vertical-align: top;\n",
       "    }\n",
       "\n",
       "    .dataframe thead th {\n",
       "        text-align: right;\n",
       "    }\n",
       "</style>\n",
       "<table border=\"1\" class=\"dataframe\">\n",
       "  <thead>\n",
       "    <tr style=\"text-align: right;\">\n",
       "      <th></th>\n",
       "      <th>Input column</th>\n",
       "      <th>Information Gain</th>\n",
       "    </tr>\n",
       "  </thead>\n",
       "  <tbody>\n",
       "    <tr>\n",
       "      <th>3</th>\n",
       "      <td>Academic Pressure</td>\n",
       "      <td>0.3125</td>\n",
       "    </tr>\n",
       "    <tr>\n",
       "      <th>1</th>\n",
       "      <td>Age</td>\n",
       "      <td>0.1250</td>\n",
       "    </tr>\n",
       "    <tr>\n",
       "      <th>5</th>\n",
       "      <td>Study Satisfaction</td>\n",
       "      <td>0.1250</td>\n",
       "    </tr>\n",
       "    <tr>\n",
       "      <th>7</th>\n",
       "      <td>Dietary Habits</td>\n",
       "      <td>0.1250</td>\n",
       "    </tr>\n",
       "    <tr>\n",
       "      <th>11</th>\n",
       "      <td>Financial Stress</td>\n",
       "      <td>0.1250</td>\n",
       "    </tr>\n",
       "    <tr>\n",
       "      <th>6</th>\n",
       "      <td>Sleep Duration</td>\n",
       "      <td>0.0625</td>\n",
       "    </tr>\n",
       "    <tr>\n",
       "      <th>9</th>\n",
       "      <td>Have you ever had suicidal thoughts ?</td>\n",
       "      <td>0.0625</td>\n",
       "    </tr>\n",
       "    <tr>\n",
       "      <th>10</th>\n",
       "      <td>Work/Study Hours</td>\n",
       "      <td>0.0625</td>\n",
       "    </tr>\n",
       "    <tr>\n",
       "      <th>0</th>\n",
       "      <td>Gender</td>\n",
       "      <td>0.0000</td>\n",
       "    </tr>\n",
       "    <tr>\n",
       "      <th>2</th>\n",
       "      <td>City</td>\n",
       "      <td>0.0000</td>\n",
       "    </tr>\n",
       "    <tr>\n",
       "      <th>4</th>\n",
       "      <td>CGPA</td>\n",
       "      <td>0.0000</td>\n",
       "    </tr>\n",
       "    <tr>\n",
       "      <th>8</th>\n",
       "      <td>Degree</td>\n",
       "      <td>0.0000</td>\n",
       "    </tr>\n",
       "    <tr>\n",
       "      <th>12</th>\n",
       "      <td>Family History of Mental Illness</td>\n",
       "      <td>0.0000</td>\n",
       "    </tr>\n",
       "  </tbody>\n",
       "</table>\n",
       "</div>"
      ],
      "text/plain": [
       "                             Input column  Information Gain\n",
       "3                       Academic Pressure            0.3125\n",
       "1                                     Age            0.1250\n",
       "5                      Study Satisfaction            0.1250\n",
       "7                          Dietary Habits            0.1250\n",
       "11                       Financial Stress            0.1250\n",
       "6                          Sleep Duration            0.0625\n",
       "9   Have you ever had suicidal thoughts ?            0.0625\n",
       "10                       Work/Study Hours            0.0625\n",
       "0                                  Gender            0.0000\n",
       "2                                    City            0.0000\n",
       "4                                    CGPA            0.0000\n",
       "8                                  Degree            0.0000\n",
       "12       Family History of Mental Illness            0.0000"
      ]
     },
     "execution_count": 62,
     "metadata": {},
     "output_type": "execute_result"
    }
   ],
   "source": [
    "ig=ada.feature_importances_\n",
    "dict={\"Input column\" :x.columns,'Information Gain':ig}\n",
    "df2=pd.DataFrame(dict)\n",
    "#sorting dataframe df1 descending order according to Information Gain\n",
    "df2.sort_values('Information Gain',ascending=False)"
   ]
  },
  {
   "cell_type": "code",
   "execution_count": 63,
   "id": "6a2033bc-1023-4663-9e86-6fbf181b7a7f",
   "metadata": {},
   "outputs": [],
   "source": [
    "#Gradient Boosting: Decision Tree Algorithm : fully grown tree\n",
    "#It is basically focus on Short coming error means fully grown tree\n",
    "#use inbulit class GradientBoostingClassifier"
   ]
  },
  {
   "cell_type": "code",
   "execution_count": 64,
   "id": "0b997368-0d77-4720-9bbf-eb06f6c5ef76",
   "metadata": {},
   "outputs": [],
   "source": [
    "#Create the object of GradientBoostingClassifier class\n",
    "#GradientBoostingClassifier : Ensemble tech\n",
    "from sklearn.ensemble import GradientBoostingClassifier"
   ]
  },
  {
   "cell_type": "code",
   "execution_count": 65,
   "id": "9dfeb29e-ff3a-4b5c-991e-5e45e67c45a9",
   "metadata": {},
   "outputs": [
    {
     "data": {
      "text/plain": [
       "'for i in range(10,101):\\n#Create the object of GradientBoostingClassifier class and passing the parameter\\n    gbc=GradientBoostingClassifier(n_estimators=i,random_state=1)\\n    print(\"No. of decision Tree : \",i)\\n    #call function\\n    gbc=create_model(gbc)\\n    '"
      ]
     },
     "execution_count": 65,
     "metadata": {},
     "output_type": "execute_result"
    }
   ],
   "source": [
    "'''for i in range(10,101):\n",
    "#Create the object of GradientBoostingClassifier class and passing the parameter\n",
    "    gbc=GradientBoostingClassifier(n_estimators=i,random_state=1)\n",
    "    print(\"No. of decision Tree : \",i)\n",
    "    #call function\n",
    "    gbc=create_model(gbc)\n",
    "    '''"
   ]
  },
  {
   "cell_type": "code",
   "execution_count": 66,
   "id": "fc6abfd0-01c0-4b4b-9bc4-d70090d3914e",
   "metadata": {},
   "outputs": [
    {
     "name": "stdout",
     "output_type": "stream",
     "text": [
      "[[2705  738]\n",
      " [ 523 4405]]\n",
      "              precision    recall  f1-score   support\n",
      "\n",
      "           0       0.84      0.79      0.81      3443\n",
      "           1       0.86      0.89      0.87      4928\n",
      "\n",
      "    accuracy                           0.85      8371\n",
      "   macro avg       0.85      0.84      0.84      8371\n",
      "weighted avg       0.85      0.85      0.85      8371\n",
      "\n"
     ]
    }
   ],
   "source": [
    "#Create the object of GradientBoostingClassifier class and passing the parameter\n",
    "gbc=GradientBoostingClassifier(n_estimators=62,random_state=1)\n",
    "#call function\n",
    "gbc=create_model(gbc)"
   ]
  },
  {
   "cell_type": "code",
   "execution_count": 67,
   "id": "c05e8346-066d-4da2-8023-00bac6eb574d",
   "metadata": {},
   "outputs": [],
   "source": [
    "#in GradientBoostingClassifier : Recall :89% and Accuracy :85%"
   ]
  },
  {
   "cell_type": "code",
   "execution_count": 68,
   "id": "595b76db-d752-4107-b25c-a67a86c6c00f",
   "metadata": {},
   "outputs": [],
   "source": [
    "#3. ExtremeGradientBoosting(XGB) : similar as gredient Boost\n",
    "#It is 3rd Techinque of Boosting ensembling techinque\n",
    "#XGB is the better version of Gradient Boosting"
   ]
  },
  {
   "cell_type": "code",
   "execution_count": 69,
   "id": "ae918907-31fb-403e-a141-97c974c469b5",
   "metadata": {},
   "outputs": [
    {
     "name": "stdout",
     "output_type": "stream",
     "text": [
      "Requirement already satisfied: xgboost in c:\\users\\pallavi\\anaconda3\\lib\\site-packages (2.1.3)\n",
      "Requirement already satisfied: numpy in c:\\users\\pallavi\\anaconda3\\lib\\site-packages (from xgboost) (1.26.4)\n",
      "Requirement already satisfied: scipy in c:\\users\\pallavi\\anaconda3\\lib\\site-packages (from xgboost) (1.13.1)\n"
     ]
    }
   ],
   "source": [
    "#install one more library of ML: xgboost\n",
    "#free of cost \n",
    "#first time install xgboost library on your system\n",
    "!pip install xgboost"
   ]
  },
  {
   "cell_type": "code",
   "execution_count": 70,
   "id": "afec93a4-26cd-42ef-af42-53d74bb2f1b3",
   "metadata": {},
   "outputs": [],
   "source": [
    "from xgboost import XGBClassifier\n",
    "#XGBClassifier inbulit class which define in xgboost inbulit package"
   ]
  },
  {
   "cell_type": "code",
   "execution_count": 71,
   "id": "29e28562-4d59-41fe-a5f7-487830c13b8d",
   "metadata": {},
   "outputs": [
    {
     "data": {
      "text/plain": [
       "'\\nfor i in range(10,101):\\n#Create the object of GradientBoostingClassifier class and passing the parameter\\n    xgb=XGBClassifier(n_estimators=i,random_state=1,reg_alpha=1)  #1means True\\n    print(\"No. of decision Tree : \",i)\\n    #call function\\n    xgb=create_model(xgb)\\n    '"
      ]
     },
     "execution_count": 71,
     "metadata": {},
     "output_type": "execute_result"
    }
   ],
   "source": [
    "'''\n",
    "for i in range(10,101):\n",
    "#Create the object of GradientBoostingClassifier class and passing the parameter\n",
    "    xgb=XGBClassifier(n_estimators=i,random_state=1,reg_alpha=1)  #1means True\n",
    "    print(\"No. of decision Tree : \",i)\n",
    "    #call function\n",
    "    xgb=create_model(xgb)\n",
    "    '''"
   ]
  },
  {
   "cell_type": "code",
   "execution_count": 72,
   "id": "1bf96e66-384b-456f-8ce4-f7caa49da31b",
   "metadata": {},
   "outputs": [
    {
     "name": "stdout",
     "output_type": "stream",
     "text": [
      "[[2694  749]\n",
      " [ 542 4386]]\n",
      "              precision    recall  f1-score   support\n",
      "\n",
      "           0       0.83      0.78      0.81      3443\n",
      "           1       0.85      0.89      0.87      4928\n",
      "\n",
      "    accuracy                           0.85      8371\n",
      "   macro avg       0.84      0.84      0.84      8371\n",
      "weighted avg       0.85      0.85      0.84      8371\n",
      "\n"
     ]
    }
   ],
   "source": [
    "#Create the object of GradientBoostingClassifier class and passing the parameter\n",
    "xgb=XGBClassifier(n_estimators=10,random_state=1,reg_alpha=1)  #1means True\n",
    "#call function\n",
    "xgb=create_model(xgb)"
   ]
  },
  {
   "cell_type": "code",
   "execution_count": 73,
   "id": "f29c1380-b95c-4abc-8951-cf7095e84a54",
   "metadata": {},
   "outputs": [],
   "source": [
    "#Recall score=89% and Accuracy score=85%"
   ]
  },
  {
   "cell_type": "code",
   "execution_count": 74,
   "id": "39b326e6-04f7-4c45-bdec-cdc938ca3e6b",
   "metadata": {},
   "outputs": [],
   "source": [
    "#SVM : support vector machine : next algorithm of classification.\n",
    "#How its work : There are 2 types of data:\n",
    "#1. Linear data\n",
    "#2. Non-Linear data : use Kernel Function"
   ]
  },
  {
   "cell_type": "code",
   "execution_count": 75,
   "id": "c317055f-89fe-4e0f-8939-d231807ff969",
   "metadata": {},
   "outputs": [],
   "source": [
    "#1. Linear Kernel function: if seperate 2 classes with the help of straight line\n",
    "#straight line: hyperplane\n",
    "#select those hyperplane whose margin is highest\n",
    "#Give data in linear kernel function , use inbulit class LineaSVC\n",
    "#SVC: Support Vector Classifier\n",
    "#LinearSVC inbulit ineer class --> svm inbulit outerclass-->sklearn\n",
    "from sklearn.svm import LinearSVC"
   ]
  },
  {
   "cell_type": "code",
   "execution_count": 76,
   "id": "1cc111fd-a102-413d-88d5-6cd9eaf93c9c",
   "metadata": {},
   "outputs": [],
   "source": [
    "#Create the object of LinearSVC class\n",
    "svc=LinearSVC(random_state=1)  #by default hard-margin"
   ]
  },
  {
   "cell_type": "code",
   "execution_count": 77,
   "id": "69ecde84-e145-4271-843b-71a9b10e9933",
   "metadata": {},
   "outputs": [
    {
     "name": "stdout",
     "output_type": "stream",
     "text": [
      "[[2714  729]\n",
      " [ 524 4404]]\n",
      "              precision    recall  f1-score   support\n",
      "\n",
      "           0       0.84      0.79      0.81      3443\n",
      "           1       0.86      0.89      0.88      4928\n",
      "\n",
      "    accuracy                           0.85      8371\n",
      "   macro avg       0.85      0.84      0.84      8371\n",
      "weighted avg       0.85      0.85      0.85      8371\n",
      "\n"
     ]
    }
   ],
   "source": [
    "svc=create_model(svc)"
   ]
  },
  {
   "cell_type": "code",
   "execution_count": 78,
   "id": "bb62b77a-53e8-4739-8377-9c99f5efbbe1",
   "metadata": {},
   "outputs": [],
   "source": [
    "#Recall score=89% and Accuracy score=85%"
   ]
  },
  {
   "cell_type": "code",
   "execution_count": 79,
   "id": "464141cb-5c9e-4fe8-8c2a-ed61824bf68b",
   "metadata": {},
   "outputs": [],
   "source": [
    "#Polynoimal kernel function :increase dimension\n",
    "#use inbulit class SVC : for nonLinear kernel function\n",
    "#SVC inbulit inner Class --> define in outer class svm--> sklearn\n",
    "from sklearn.svm import SVC"
   ]
  },
  {
   "cell_type": "code",
   "execution_count": 80,
   "id": "3ceca1f9-b226-4e24-9650-056db2179c12",
   "metadata": {},
   "outputs": [
    {
     "name": "stdout",
     "output_type": "stream",
     "text": [
      "[[2660  783]\n",
      " [ 496 4432]]\n",
      "              precision    recall  f1-score   support\n",
      "\n",
      "           0       0.84      0.77      0.81      3443\n",
      "           1       0.85      0.90      0.87      4928\n",
      "\n",
      "    accuracy                           0.85      8371\n",
      "   macro avg       0.85      0.84      0.84      8371\n",
      "weighted avg       0.85      0.85      0.85      8371\n",
      "\n"
     ]
    }
   ],
   "source": [
    "#Create object of SVC class and pass the value of parameter kernel=\"poly\"\n",
    "poly_svc=SVC(random_state=1,kernel=\"poly\")\n",
    "poly_svc=create_model(poly_svc)"
   ]
  },
  {
   "cell_type": "code",
   "execution_count": 81,
   "id": "cf47e072-b401-43ce-b9b9-b9e26d43b4ee",
   "metadata": {},
   "outputs": [],
   "source": [
    "#Recall score=90% and Accuracy score=85%"
   ]
  },
  {
   "cell_type": "code",
   "execution_count": 82,
   "id": "af7c35c3-51ba-4540-bcba-e2bb2ab0bb10",
   "metadata": {},
   "outputs": [
    {
     "name": "stdout",
     "output_type": "stream",
     "text": [
      "[[2706  737]\n",
      " [ 524 4404]]\n",
      "              precision    recall  f1-score   support\n",
      "\n",
      "           0       0.84      0.79      0.81      3443\n",
      "           1       0.86      0.89      0.87      4928\n",
      "\n",
      "    accuracy                           0.85      8371\n",
      "   macro avg       0.85      0.84      0.84      8371\n",
      "weighted avg       0.85      0.85      0.85      8371\n",
      "\n"
     ]
    }
   ],
   "source": [
    "#Apply Radial basis kernel function :rbf\n",
    "#Create object of SVC class and pass the value of parameter kernel=\"rbf\"\n",
    "radial_svc=SVC(random_state=1,kernel=\"rbf\")\n",
    "radial_svc=create_model(radial_svc)"
   ]
  },
  {
   "cell_type": "code",
   "execution_count": 83,
   "id": "8ac5938b-98d8-4357-8008-090f0de4d43e",
   "metadata": {},
   "outputs": [],
   "source": [
    "#Recall Score = 89% and Accuracy Score = 85%"
   ]
  }
 ],
 "metadata": {
  "kernelspec": {
   "display_name": "Python 3 (ipykernel)",
   "language": "python",
   "name": "python3"
  },
  "language_info": {
   "codemirror_mode": {
    "name": "ipython",
    "version": 3
   },
   "file_extension": ".py",
   "mimetype": "text/x-python",
   "name": "python",
   "nbconvert_exporter": "python",
   "pygments_lexer": "ipython3",
   "version": "3.12.7"
  }
 },
 "nbformat": 4,
 "nbformat_minor": 5
}
